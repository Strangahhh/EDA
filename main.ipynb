{
 "cells": [
  {
   "cell_type": "code",
   "execution_count": 316,
   "metadata": {},
   "outputs": [],
   "source": [
    "import pandas as pd\n",
    "from selenium import webdriver\n",
    "from selenium.webdriver.firefox.options import Options\n",
    "from selenium.webdriver.common.keys import Keys\n",
    "from selenium.webdriver.common.by import By\n",
    "from selenium.common.exceptions import NoSuchElementException\n",
    "from selenium.webdriver.support.ui import WebDriverWait\n",
    "from selenium.webdriver.support.expected_conditions import title_is\n",
    "from selenium.webdriver.support import expected_conditions as EC\n",
    "import bs4\n",
    "import time\n",
    "import re"
   ]
  },
  {
   "cell_type": "code",
   "execution_count": 490,
   "metadata": {},
   "outputs": [],
   "source": [
    "from selenium import webdriver\n",
    "from selenium.webdriver.common.by import By\n",
    "import time\n",
    "\n",
    "driver = webdriver.Firefox()\n",
    "\n",
    "driver.get('https://www.jobth.com/searchjob2.php?typejob=&city=&province=&keyword=')\n",
    "\n",
    "wait = WebDriverWait(driver, 10)\n",
    "\n",
    "original_window = driver.current_window_handle\n",
    "\n",
    "assert len(driver.window_handles) == 1\n",
    "\n",
    "driver.execute_script(\"document.body.style.transform='scale(0.1)';\")\n",
    "driver.execute_script(\"document.body.style.transformOrigin='0 0';\")\n",
    "\n",
    "time.sleep(2)\n",
    "\n",
    "driver.find_element(By.XPATH,'/html/body/center/div[3]/center/div/div[4]/a[4]').click()\n",
    "\n",
    "wait.until(EC.number_of_windows_to_be(2))\n",
    "\n",
    "for window_handle in driver.window_handles:\n",
    "        if window_handle != original_window:\n",
    "            driver.switch_to.window(window_handle)\n",
    "            break\n",
    "\n",
    "time.sleep(6)\n",
    "\n",
    "data = driver.page_source\n",
    "soup = bs4.BeautifulSoup(data)\n",
    "\n",
    "listrole = []\n",
    "listprovince = []\n",
    "listsalary_rate = []\n",
    "listjob_type = []\n",
    "listrequire = []\n",
    "listjob_details = []\n",
    "listjobqualifications = []\n",
    "\n",
    "P = soup.find_all(\"div\",{\"class\":\"w3-container w3-xlarge w3-center w3-theme-d5 w3-padding w3-text-shadow\"}) \n",
    "for c0 in P:\n",
    "    c0 = c0.text\n",
    "    listrole.append(c0)\n",
    "\n",
    "P = soup.find_all(\"div\",{\"class\":\"w3-container w3-left-align w3-medium w3-theme-l4\"}) \n",
    "for c1 in P:\n",
    "    c1 = c1.text\n",
    "    match = re.search(r'จังหวัด (.+?) \\(', c1)\n",
    "    province = match.group(1) if match else None\n",
    "\n",
    "    match = re.search(r'อัตราค่าจ้าง (.+?)\\รูปแบบงาน', c1)\n",
    "    salary_rate = match.group(1) if match else None\n",
    "\n",
    "    match = re.search(r'รูปแบบงาน (.+?)\\อัตรา', c1)\n",
    "    job_type = match.group(1) if match else None\n",
    "\n",
    "    match = re.search(r'อัตรา (.+?)\\อัตรา', c1)\n",
    "    require = match.group(1) if match else None\n",
    "\n",
    "    listprovince.append(province)\n",
    "    listsalary_rate.append(salary_rate)\n",
    "    listjob_type.append(job_type)\n",
    "    listrequire.append(require)\n",
    "\n",
    "P = soup.find_all(\"div\",{\"class\":\"w3-container w3-left-align w3-medium w3-theme-l5\"}) \n",
    "\n",
    "for c2 in P:\n",
    "    c2 = c2.text\n",
    "    job_details_pattern = re.compile(r'รายละเอียดงาน(.+?)คุณสมบัติผู้สมัคร', re.DOTALL)\n",
    "    job_details_match = job_details_pattern.search(c2)\n",
    "    if job_details_match:\n",
    "        job_details = job_details_match.group(1)\n",
    "        \n",
    "    \n",
    "    qualifications_pattern = re.compile(r'คุณสมบัติผู้สมัคร(.+?)วุฒิการศึกษาระดับ', re.DOTALL)\n",
    "    qualifications_match = qualifications_pattern.search(c2)\n",
    "    if qualifications_match:\n",
    "        qualifications = qualifications_match.group(1).strip()\n",
    "\n",
    "    listjob_details.append(job_details)\n",
    "    listjobqualifications.append(qualifications)\n",
    "\n",
    "df = pd.DataFrame()\n",
    "# df['JobID'] = ProductID\n",
    "df['RoleName'] = listrole\n",
    "df['Province'] = listprovince\n",
    "df['Salary_rate'] = listsalary_rate\n",
    "df['Job_type'] = listjob_type\n",
    "df['Require'] = listrequire\n",
    "df['Job_details'] = listjob_details\n",
    "df['jobqualifications'] = listjobqualifications\n",
    "\n",
    "# driver.quit()"
   ]
  },
  {
   "cell_type": "code",
   "execution_count": 492,
   "metadata": {},
   "outputs": [
    {
     "data": {
      "text/html": [
       "<div>\n",
       "<style scoped>\n",
       "    .dataframe tbody tr th:only-of-type {\n",
       "        vertical-align: middle;\n",
       "    }\n",
       "\n",
       "    .dataframe tbody tr th {\n",
       "        vertical-align: top;\n",
       "    }\n",
       "\n",
       "    .dataframe thead th {\n",
       "        text-align: right;\n",
       "    }\n",
       "</style>\n",
       "<table border=\"1\" class=\"dataframe\">\n",
       "  <thead>\n",
       "    <tr style=\"text-align: right;\">\n",
       "      <th></th>\n",
       "      <th>RoleName</th>\n",
       "      <th>Province</th>\n",
       "      <th>Salary_rate</th>\n",
       "      <th>Job_type</th>\n",
       "      <th>Require</th>\n",
       "      <th>Job_details</th>\n",
       "      <th>jobqualifications</th>\n",
       "    </tr>\n",
       "  </thead>\n",
       "  <tbody>\n",
       "    <tr>\n",
       "      <th>0</th>\n",
       "      <td>บัญชี/การเงิน</td>\n",
       "      <td>นนทบุรี</td>\n",
       "      <td>16,000-22,000</td>\n",
       "      <td>งานประจำ (Full Time)</td>\n",
       "      <td>None</td>\n",
       "      <td>ทำบัญชีบริษัท</td>\n",
       "      <td>มีประสบการณ์การทำงาน 1- 2 ปี  มีไหวพริบ มีการแ...</td>\n",
       "    </tr>\n",
       "  </tbody>\n",
       "</table>\n",
       "</div>"
      ],
      "text/plain": [
       "        RoleName Province    Salary_rate              Job_type Require  \\\n",
       "0  บัญชี/การเงิน  นนทบุรี  16,000-22,000  งานประจำ (Full Time)    None   \n",
       "\n",
       "     Job_details                                  jobqualifications  \n",
       "0  ทำบัญชีบริษัท  มีประสบการณ์การทำงาน 1- 2 ปี  มีไหวพริบ มีการแ...  "
      ]
     },
     "execution_count": 492,
     "metadata": {},
     "output_type": "execute_result"
    }
   ],
   "source": [
    "df"
   ]
  },
  {
   "cell_type": "code",
   "execution_count": 482,
   "metadata": {},
   "outputs": [
    {
     "name": "stdout",
     "output_type": "stream",
     "text": [
      "โฟร์แมน โซนภาคเหนือ\n"
     ]
    }
   ],
   "source": [
    "P = soup.find_all(\"div\",{\"class\":\"w3-container w3-xlarge w3-center w3-theme-d5 w3-padding w3-text-shadow\"}) \n",
    "\n",
    "for c0 in P:\n",
    "    c0 = c0.text\n",
    "    \n",
    "    "
   ]
  },
  {
   "cell_type": "code",
   "execution_count": 496,
   "metadata": {},
   "outputs": [
    {
     "name": "stdout",
     "output_type": "stream",
     "text": [
      "จังหวัด: นนทบุรี\n",
      "อัตราค่าจ้าง: 16,000-22,000\n",
      "รูปแบบงาน: งานประจำ (Full Time)\n",
      "จำนวนตำแหน่งที่ต้องการ: 0\n"
     ]
    }
   ],
   "source": [
    "P = soup.find_all(\"div\",{\"class\":\"w3-container w3-left-align w3-medium w3-theme-l4\"}) \n",
    "P\n",
    "\n",
    "for r0 in P:\n",
    "    r0 = r0.text\n",
    "    match = re.search(r'จังหวัด (.+?) \\(', r0)\n",
    "    province = match.group(1) if match else None\n",
    "\n",
    "    match = re.search(r'อัตราค่าจ้าง (.+?)\\รูปแบบงาน', r0)\n",
    "    salary_rate = match.group(1) if match else None\n",
    "\n",
    "    match = re.search(r'รูปแบบงาน (.+?)\\อัตรา', r0)\n",
    "    job_type = match.group(1) if match else None\n",
    "\n",
    "    match = re.search(r'อัตรา (.+?)\\อัตรา', r0)\n",
    "    require = match.group(1) if match else 0\n",
    "    num_positions = match.group(2) if match else 0\n",
    "    \n",
    "\n",
    "    print(\"จังหวัด:\", province)\n",
    "    print(\"อัตราค่าจ้าง:\", salary_rate)\n",
    "    print(\"รูปแบบงาน:\", job_type)\n",
    "    print(\"จำนวนตำแหน่งที่ต้องการ:\", require)"
   ]
  },
  {
   "cell_type": "code",
   "execution_count": 458,
   "metadata": {},
   "outputs": [
    {
     "name": "stdout",
     "output_type": "stream",
     "text": [
      "รายละเอียดงานดูแลควบคุมงานก่อสร้างช่วยวิศวกรหลักโครงการ\n",
      "บริหารจัดการงานก่อสร้างเป็นไปตามแผนงาน\n",
      "ติดต่อประสานงาน- เอกกสาร อื่นๆคุณสมบัติผู้สมัครมีประสบการณ์การทำงาน 1- 2 ปี  มีไหวพริบ มีการแก้ไขปัญหาได้ดี มีความขยัน อดทน รับแรงกดดันในการทำงานได้ ไม่ติดขัดในการเดินทางต่างจังหวัด ทำงานได้ทุกจังหวัด วุฒิการศึกษาระดับ ปวช. ขึ้นไปในสาขางานที่เกี่ยวข้อง ขับรถได้ มีใบขับขี่ มีรถส่วนตัว จะพิจารณาพิเศษ ทำเอกสารเบื้องต้นได้ ใช้คอมเป็น สวัสดิการOT\n",
      "ที่พัก\n",
      "ชุดฟอร์มบริษัท\n",
      "โบนัสประจำปี\n",
      "ประกันสังคมตามกฎหมาย\n",
      "งานเลี้ยงสังสรรค์เทศกาลต่างๆสถานที่ปฏิบัติงานโครงการตามจังหวัดต่างๆวิธีการรับสมัครงานสมัครด้วยตนเอง\n",
      "ส่งใบสมัครผ่านทาง email บริษัท : skp@sinkaew.com\n",
      "ส่งใบสมัครผ่าน fax บริษัท\n",
      "เบอร์ติดต่อ 094-0969587สวัสดิการ1.เข้าระบบประกันสังคม\n",
      "2.มีโบนัสประจำปี / ปรับเงินประจำปี\n",
      "3.ชุดฟอร์มฟรี\n",
      "4.มีค่าที่พักให้เดือนละ 3000++\n",
      "5.มีค่าเสื่อมรถส่วนตัวให้ เดือนละ 3000++\n",
      "6.รถที่ใช้ในหน้างานสามารถเบิกค่าน้ำมันได้\n",
      "7.เลี้ยงประจำปี / ประจำเดือน /ท่องเที่ยวภายใน-ภายนอก ประเทศ\n"
     ]
    }
   ],
   "source": [
    "P = soup.find_all(\"div\",{\"class\":\"w3-container w3-left-align w3-medium w3-theme-l5\"}) \n",
    "\n",
    "for r0 in P:\n",
    "    r0 = r0.text\n",
    "    print(r0)"
   ]
  },
  {
   "cell_type": "code",
   "execution_count": 498,
   "metadata": {},
   "outputs": [
    {
     "name": "stdout",
     "output_type": "stream",
     "text": [
      "รายละเอียดงาน: ทำบัญชีบริษัท\n",
      "คุณสมบัติผู้สมัคร: มีประสบการณ์การทำงาน 1- 2 ปี  มีไหวพริบ มีการแก้ไขปัญหาได้ดี มีความขยัน อดทน รับแรงกดดันในการทำงานได้ ไม่ติดขัดในการเดินทางต่างจังหวัด ทำงานได้ทุกจังหวัด\n"
     ]
    }
   ],
   "source": [
    "P = soup.find_all(\"div\",{\"class\":\"w3-container w3-left-align w3-medium w3-theme-l5\"}) \n",
    "\n",
    "for r0 in P:\n",
    "    r0 = r0.text\n",
    "    job_details_pattern = re.compile(r'รายละเอียดงาน(.+?)คุณสมบัติผู้สมัคร', re.DOTALL)\n",
    "    job_details_match = job_details_pattern.search(r0)\n",
    "    if job_details_match:\n",
    "        job_details = job_details_match.group(1)\n",
    "        \n",
    "    \n",
    "    qualifications_pattern = re.compile(r'คุณสมบัติผู้สมัคร(.+?)วุฒิการศึกษาระดับ', re.DOTALL)\n",
    "    qualifications_match = qualifications_pattern.search(r0)\n",
    "    if qualifications_match:\n",
    "        qualifications = qualifications_match.group(1).strip()\n",
    "        print(\"Qualifications:\", qualifications)\n",
    "        \n",
    "    print(\"รายละเอียดงาน:\", job_details)\n",
    "    print(\"คุณสมบัติผู้สมัคร:\", qualifications)"
   ]
  },
  {
   "cell_type": "code",
   "execution_count": 480,
   "metadata": {},
   "outputs": [
    {
     "name": "stdout",
     "output_type": "stream",
     "text": [
      "Job Title: โฟร์แมน โซนภาคเหนือ\n",
      "Location: จังหวัด พิษณุโลก (เมืองพิษณุโลก)\n",
      "Salary: อัตราค่าจ้าง 12,000-18,000\n"
     ]
    }
   ],
   "source": [
    "job_title = soup.find('div', class_='w3-container w3-xlarge w3-center w3-theme-d5 w3-padding w3-text-shadow').text\n",
    "location = soup.find('p', class_='w3-medium').text\n",
    "salary = soup.find('p', class_='w3-medium').find_next('p', class_='w3-medium').text\n",
    "\n",
    "# Print the extracted information\n",
    "print(f\"Job Title: {job_title}\")\n",
    "print(f\"Location: {location}\")\n",
    "print(f\"Salary: {salary}\")\n"
   ]
  },
  {
   "cell_type": "code",
   "execution_count": null,
   "metadata": {},
   "outputs": [],
   "source": [
    "All_P = []\n",
    "data = driver.page_source\n",
    "soup = bs4.BeautifulSoup(data)\n",
    "products = soup.select(\".row>div\")\n",
    "for product in products:\n",
    "    E = product.select_one(\".scroll > div > div:nth-child(1) > div:nth-child(2) > div:nth-child(1) > h4:nth-child(1)\").text.strip()\n",
    "    D = product.select_one(\".scroll > div > div:nth-child(1) > div:nth-child(2) > div:nth-child(1) > a:nth-child(2)\").text.strip()\n",
    "    A = product.select_one(\"div.job-description\").text.strip()\n",
    "    P = product.select_one(\"div.employment > b:nth-child(2)\").text.strip()\n",
    "    R = product.select_one(\"div.employment > b:nth-child(5)\").text.strip()\n",
    "    O = product.select_one(\"div.qualifications > span:nth-child(4)\").text.strip()\n",
    "    J = product.select_one(\"div.qualifications > span:nth-child(7)\").text.strip()\n",
    "    E = product.select_one(\"div.qualifications > span:nth-child(10)\").text.strip()\n",
    "    C = product.select_one(\"div.job-benefit > span:nth-child(3)\").text.strip()\n",
    "    T = product.select_one(\"div.contact-cpn > span:nth-child(3)\").text.strip()\n",
    "\n",
    "    All_P.append([E,D,A,P,R,O,J,E,C,T])\n",
    "All_P"
   ]
  }
 ],
 "metadata": {
  "kernelspec": {
   "display_name": "EDA",
   "language": "python",
   "name": "python3"
  },
  "language_info": {
   "codemirror_mode": {
    "name": "ipython",
    "version": 3
   },
   "file_extension": ".py",
   "mimetype": "text/x-python",
   "name": "python",
   "nbconvert_exporter": "python",
   "pygments_lexer": "ipython3",
   "version": "3.12.0"
  }
 },
 "nbformat": 4,
 "nbformat_minor": 2
}
